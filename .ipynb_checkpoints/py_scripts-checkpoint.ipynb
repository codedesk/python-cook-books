{
 "metadata": {
  "name": "",
  "signature": "sha256:8add2fc66ddbbcb6fde6386da35372b5a4acfc124d61fc4b85b293a861cd676a"
 },
 "nbformat": 3,
 "nbformat_minor": 0,
 "worksheets": [
  {
   "cells": [
    {
     "cell_type": "code",
     "collapsed": false,
     "input": [
      "from pylab import *\n",
      "import matplotlib.pyplot as plt\n",
      "\n",
      "plt.plot([x for x in range(10)],[y for y in range(10)])\n",
      "plt.show()"
     ],
     "language": "python",
     "metadata": {},
     "outputs": [],
     "prompt_number": 9
    },
    {
     "cell_type": "code",
     "collapsed": false,
     "input": [
      "mylist = [x*x for x in range(3)]\n",
      "for i in mylist:\n",
      "    print(i)"
     ],
     "language": "python",
     "metadata": {},
     "outputs": [
      {
       "output_type": "stream",
       "stream": "stdout",
       "text": [
        "0\n",
        "1\n",
        "4\n"
       ]
      }
     ],
     "prompt_number": 1
    },
    {
     "cell_type": "code",
     "collapsed": false,
     "input": [
      "mygenerator = (x*x for x in range(3))\n",
      "for i in mygenerator:\n",
      "    print i"
     ],
     "language": "python",
     "metadata": {},
     "outputs": [
      {
       "output_type": "stream",
       "stream": "stdout",
       "text": [
        "0\n",
        "1\n",
        "4\n"
       ]
      }
     ],
     "prompt_number": 2
    },
    {
     "cell_type": "code",
     "collapsed": false,
     "input": [
      "def test_yield():\n",
      "    yield [1,1,1,1,1,1,1]\n",
      "    yield 2\n",
      "    yield 3\n",
      "    \n",
      "it = test_yield()\n",
      "print it\n",
      "print it.next()\n",
      "print it"
     ],
     "language": "python",
     "metadata": {},
     "outputs": [
      {
       "output_type": "stream",
       "stream": "stdout",
       "text": [
        "<generator object test_yield at 0x10587ad20>\n",
        "[1, 1, 1, 1, 1, 1, 1]\n",
        "<generator object test_yield at 0x10587ad20>\n"
       ]
      }
     ],
     "prompt_number": 14
    },
    {
     "cell_type": "code",
     "collapsed": false,
     "input": [
      "def remove_adjacents_1():\n",
      "    a = [1,2,3,3,3,2,4,5,5,6,3,3,5,6]\n",
      "    final=[]\n",
      "    previous = None\n",
      "    for x in a:   \n",
      "        if x not in final or x!=previous:\n",
      "            if x!=previous:\n",
      "                previous = x\n",
      "                final.append(x)\n",
      "    return final\n",
      "remove_adjacents_1()"
     ],
     "language": "python",
     "metadata": {},
     "outputs": [
      {
       "metadata": {},
       "output_type": "pyout",
       "prompt_number": 31,
       "text": [
        "[1, 2, 3, 2, 4, 5, 6, 3, 5, 6]"
       ]
      }
     ],
     "prompt_number": 31
    },
    {
     "cell_type": "markdown",
     "metadata": {},
     "source": [
      "Function for removing all adjacents elements and bring it to single elements"
     ]
    },
    {
     "cell_type": "code",
     "collapsed": false,
     "input": [
      "def remove_adjacents_2():\n",
      "    nums = [1,2,3,3,3,2,4,5,5,6,3,3,5,6]\n",
      "    result = [10]\n",
      "    for num in nums:\n",
      "        if num != result[-1]:\n",
      "            result.append(num)\n",
      "    return result\n",
      "remove_adjacents_2()"
     ],
     "language": "python",
     "metadata": {},
     "outputs": [
      {
       "metadata": {},
       "output_type": "pyout",
       "prompt_number": 28,
       "text": [
        "[10, 1, 2, 3, 2, 4, 5, 6, 3, 5, 6]"
       ]
      }
     ],
     "prompt_number": 28
    },
    {
     "cell_type": "code",
     "collapsed": false,
     "input": [
      "def remove_adjacents_3():\n",
      "    nums = [1,2,3,3,3,2,4,5,5,6,3,3,5,6]\n",
      "    b = []\n",
      "    [b.append(x) for x in nums if x not in b or x != b[-1]]\n",
      "    return b\n",
      "remove_adjacents_3()"
     ],
     "language": "python",
     "metadata": {},
     "outputs": [
      {
       "metadata": {},
       "output_type": "pyout",
       "prompt_number": 4,
       "text": [
        "[1, 2, 3, 2, 4, 5, 6, 3, 5, 6]"
       ]
      }
     ],
     "prompt_number": 4
    },
    {
     "cell_type": "code",
     "collapsed": false,
     "input": [
      "def welcome_note(phrase, name):\n",
      "    return phrase + \" \" + name\n",
      "\n",
      "from functools import partial\n",
      "\n",
      "full_partial = partial(welcome_note, \"Good Morning\", \"vasanth\")\n",
      "full_partial()\n",
      "x\n"
     ],
     "language": "python",
     "metadata": {},
     "outputs": [
      {
       "metadata": {},
       "output_type": "pyout",
       "prompt_number": 7,
       "text": [
        "'Bye Bye Vasanth'"
       ]
      }
     ],
     "prompt_number": 7
    },
    {
     "cell_type": "code",
     "collapsed": false,
     "input": [
      "def dict_to_object():\n",
      "    def def_wrap(method):\n",
      "        print method\n",
      "        def wrap(self, *args, **kwargs):\n",
      "            return method(*args, **kwargs)\n",
      "        return wrap\n",
      "    return def_wrap\n",
      "\n",
      "@dict_to_object()\n",
      "def convert_dict_to_object(self, obj_name,test_name, params):\n",
      "    from collections import namedtuple\n",
      "    obj_name = namedtuple(obj_name, (' '.join([key for key in params])))\n",
      "    named_object = obj_name(**params)\n",
      "    print test_name\n",
      "    return named_object\n",
      "\n",
      "convert_dict_to_object(\"Person\",\"hello\", {\"name\": \"vasanth\", \"age\": 23})\n",
      "            "
     ],
     "language": "python",
     "metadata": {},
     "outputs": [
      {
       "output_type": "stream",
       "stream": "stdout",
       "text": [
        "<function convert_dict_to_object at 0x106a7ad70>\n",
        "hello\n"
       ]
      },
      {
       "metadata": {},
       "output_type": "pyout",
       "prompt_number": 23,
       "text": [
        "Person(age=23, name='vasanth')"
       ]
      }
     ],
     "prompt_number": 23
    },
    {
     "cell_type": "code",
     "collapsed": false,
     "input": [],
     "language": "python",
     "metadata": {},
     "outputs": []
    }
   ],
   "metadata": {}
  }
 ]
}