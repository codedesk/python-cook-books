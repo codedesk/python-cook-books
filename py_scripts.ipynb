{
 "metadata": {
  "name": "",
  "signature": "sha256:47413779cec2caf4d8da0930f014dd8813b3199fad7c37b53a59bc86d1efc3d7"
 },
 "nbformat": 3,
 "nbformat_minor": 0,
 "worksheets": [
  {
   "cells": [
    {
     "cell_type": "code",
     "collapsed": false,
     "input": [],
     "language": "python",
     "metadata": {},
     "outputs": [
      {
       "output_type": "stream",
       "stream": "stdout",
       "text": [
        "hello\n"
       ]
      }
     ],
     "prompt_number": 1
    },
    {
     "cell_type": "code",
     "collapsed": false,
     "input": [
      "from pylab import *\n",
      "import matplotlib.pyplot as plt\n",
      "\n",
      "plt.plot([x for x in range(10)],[y for y in range(10)])\n",
      "plt.show()"
     ],
     "language": "python",
     "metadata": {},
     "outputs": [],
     "prompt_number": 32
    },
    {
     "cell_type": "code",
     "collapsed": false,
     "input": [
      "mylist = [x*x for x in range(3)]\n",
      "for i in mylist:\n",
      "    print(i)\n",
      "for i in mylist:\n",
      "    print(i)\n"
     ],
     "language": "python",
     "metadata": {},
     "outputs": [
      {
       "output_type": "stream",
       "stream": "stdout",
       "text": [
        "0\n",
        "1\n",
        "4\n",
        "0\n",
        "1\n",
        "4\n"
       ]
      }
     ],
     "prompt_number": 3
    },
    {
     "cell_type": "code",
     "collapsed": false,
     "input": [
      "mygenerator = (x*x for x in range(3))\n",
      "for i in mygenerator:\n",
      "    print i\n",
      "for i in mygenerator:\n",
      "    print i\n",
      "    "
     ],
     "language": "python",
     "metadata": {},
     "outputs": [
      {
       "output_type": "stream",
       "stream": "stdout",
       "text": [
        "0\n",
        "1\n",
        "4\n"
       ]
      }
     ],
     "prompt_number": 13
    },
    {
     "cell_type": "code",
     "collapsed": false,
     "input": [
      "def test_yield():\n",
      "    yield [1,1,1,1,1,1,1]\n",
      "    yield 2\n",
      "    yield 3\n",
      "    \n",
      "it = test_yield()\n",
      "print it\n",
      "print it.next()\n",
      "print it"
     ],
     "language": "python",
     "metadata": {},
     "outputs": [
      {
       "output_type": "stream",
       "stream": "stdout",
       "text": [
        "<generator object test_yield at 0x10587ad20>\n",
        "[1, 1, 1, 1, 1, 1, 1]\n",
        "<generator object test_yield at 0x10587ad20>\n"
       ]
      }
     ],
     "prompt_number": 14
    },
    {
     "cell_type": "code",
     "collapsed": false,
     "input": [
      "def remove_adjacents_1():\n",
      "    a = [1,2,3,3,3,2,4,5,5,6,3,3,5,6]\n",
      "    final=[]\n",
      "    previous = None\n",
      "    for x in a:   \n",
      "        if x not in final or x!=previous:\n",
      "            if x!=previous:\n",
      "                previous = x\n",
      "                final.append(x)\n",
      "    return final\n",
      "remove_adjacents_1()"
     ],
     "language": "python",
     "metadata": {},
     "outputs": [
      {
       "metadata": {},
       "output_type": "pyout",
       "prompt_number": 31,
       "text": [
        "[1, 2, 3, 2, 4, 5, 6, 3, 5, 6]"
       ]
      }
     ],
     "prompt_number": 31
    },
    {
     "cell_type": "markdown",
     "metadata": {},
     "source": [
      "Function for removing all adjacents elements and bring it to single elements"
     ]
    },
    {
     "cell_type": "code",
     "collapsed": false,
     "input": [
      "def remove_adjacents_2():\n",
      "    nums = [1,2,3,3,3,2,4,5,5,6,3,3,5,6]\n",
      "    result = [10]\n",
      "    for num in nums:\n",
      "        if num != result[-1]:\n",
      "            result.append(num)\n",
      "    return result\n",
      "remove_adjacents_2()"
     ],
     "language": "python",
     "metadata": {},
     "outputs": [
      {
       "metadata": {},
       "output_type": "pyout",
       "prompt_number": 28,
       "text": [
        "[10, 1, 2, 3, 2, 4, 5, 6, 3, 5, 6]"
       ]
      }
     ],
     "prompt_number": 28
    },
    {
     "cell_type": "code",
     "collapsed": false,
     "input": [
      "def welcome_note(phrase, name):\n",
      "    return phrase + \" \" + name\n",
      "from functools import partial\n",
      "full_partial = partial(welcome_note, \"Good Morning\", \"vasanth\")\n",
      "full_partial()\n",
      "\n",
      "half_partial = partial(welcome_note, \"Bye Bye\")\n",
      "half_partial(\"Vasanth\")\n"
     ],
     "language": "python",
     "metadata": {},
     "outputs": [
      {
       "metadata": {},
       "output_type": "pyout",
       "prompt_number": 35,
       "text": [
        "'Bye Bye Vasanth'"
       ]
      }
     ],
     "prompt_number": 35
    },
    {
     "cell_type": "code",
     "collapsed": false,
     "input": [],
     "language": "python",
     "metadata": {},
     "outputs": []
    }
   ],
   "metadata": {}
  }
 ]
}